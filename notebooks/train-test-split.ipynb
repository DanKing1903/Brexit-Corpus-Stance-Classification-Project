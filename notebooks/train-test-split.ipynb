{
 "cells": [
  {
   "cell_type": "code",
   "execution_count": 1,
   "metadata": {},
   "outputs": [],
   "source": [
    "import pandas as pd\n",
    "import random"
   ]
  },
  {
   "cell_type": "code",
   "execution_count": 2,
   "metadata": {},
   "outputs": [],
   "source": [
    "file = \"../data/brexit_blog_corpus.xlsx\"\n",
    "df = pd.read_excel(file, usecols = \"A:K\")\n",
    "random.seed(42)"
   ]
  },
  {
   "cell_type": "code",
   "execution_count": 3,
   "metadata": {},
   "outputs": [
    {
     "data": {
      "text/html": [
       "<div>\n",
       "<style scoped>\n",
       "    .dataframe tbody tr th:only-of-type {\n",
       "        vertical-align: middle;\n",
       "    }\n",
       "\n",
       "    .dataframe tbody tr th {\n",
       "        vertical-align: top;\n",
       "    }\n",
       "\n",
       "    .dataframe thead th {\n",
       "        text-align: right;\n",
       "    }\n",
       "</style>\n",
       "<table border=\"1\" class=\"dataframe\">\n",
       "  <thead>\n",
       "    <tr style=\"text-align: right;\">\n",
       "      <th></th>\n",
       "      <th>SND_studie</th>\n",
       "      <th>SND_dataset</th>\n",
       "      <th>SND_version</th>\n",
       "      <th>Utterance ID No</th>\n",
       "      <th>Utterance</th>\n",
       "      <th>Stance category</th>\n",
       "      <th>second stance category</th>\n",
       "      <th>third</th>\n",
       "      <th>fourth</th>\n",
       "      <th>fifth</th>\n",
       "      <th>Utterance word length</th>\n",
       "    </tr>\n",
       "  </thead>\n",
       "  <tbody>\n",
       "    <tr>\n",
       "      <th>0</th>\n",
       "      <td>1037</td>\n",
       "      <td>1</td>\n",
       "      <td>1.0</td>\n",
       "      <td>1</td>\n",
       "      <td>I know what you mean.</td>\n",
       "      <td>agreement/disagreement</td>\n",
       "      <td>NaN</td>\n",
       "      <td>NaN</td>\n",
       "      <td>NaN</td>\n",
       "      <td>NaN</td>\n",
       "      <td>5</td>\n",
       "    </tr>\n",
       "    <tr>\n",
       "      <th>1</th>\n",
       "      <td>1037</td>\n",
       "      <td>1</td>\n",
       "      <td>1.0</td>\n",
       "      <td>2</td>\n",
       "      <td>Yep, we definitely freeze out others opinions,...</td>\n",
       "      <td>agreement/disagreement</td>\n",
       "      <td>certainty</td>\n",
       "      <td>NaN</td>\n",
       "      <td>NaN</td>\n",
       "      <td>NaN</td>\n",
       "      <td>14</td>\n",
       "    </tr>\n",
       "    <tr>\n",
       "      <th>2</th>\n",
       "      <td>1037</td>\n",
       "      <td>1</td>\n",
       "      <td>1.0</td>\n",
       "      <td>3</td>\n",
       "      <td>So do I.</td>\n",
       "      <td>agreement/disagreement</td>\n",
       "      <td>NaN</td>\n",
       "      <td>NaN</td>\n",
       "      <td>NaN</td>\n",
       "      <td>NaN</td>\n",
       "      <td>3</td>\n",
       "    </tr>\n",
       "    <tr>\n",
       "      <th>3</th>\n",
       "      <td>1037</td>\n",
       "      <td>1</td>\n",
       "      <td>1.0</td>\n",
       "      <td>4</td>\n",
       "      <td>I don't disagree that the Yes campaign made mi...</td>\n",
       "      <td>agreement/disagreement</td>\n",
       "      <td>contrariety</td>\n",
       "      <td>necessity</td>\n",
       "      <td>NaN</td>\n",
       "      <td>NaN</td>\n",
       "      <td>21</td>\n",
       "    </tr>\n",
       "    <tr>\n",
       "      <th>4</th>\n",
       "      <td>1037</td>\n",
       "      <td>1</td>\n",
       "      <td>1.0</td>\n",
       "      <td>5</td>\n",
       "      <td>That to me is where the real conversions will ...</td>\n",
       "      <td>agreement/disagreement</td>\n",
       "      <td>prediction</td>\n",
       "      <td>source of knowledge</td>\n",
       "      <td>NaN</td>\n",
       "      <td>NaN</td>\n",
       "      <td>29</td>\n",
       "    </tr>\n",
       "  </tbody>\n",
       "</table>\n",
       "</div>"
      ],
      "text/plain": [
       "   SND_studie  SND_dataset  SND_version  Utterance ID No  \\\n",
       "0        1037            1          1.0                1   \n",
       "1        1037            1          1.0                2   \n",
       "2        1037            1          1.0                3   \n",
       "3        1037            1          1.0                4   \n",
       "4        1037            1          1.0                5   \n",
       "\n",
       "                                           Utterance         Stance category  \\\n",
       "0                              I know what you mean.  agreement/disagreement   \n",
       "1  Yep, we definitely freeze out others opinions,...  agreement/disagreement   \n",
       "2                                           So do I.  agreement/disagreement   \n",
       "3  I don't disagree that the Yes campaign made mi...  agreement/disagreement   \n",
       "4  That to me is where the real conversions will ...  agreement/disagreement   \n",
       "\n",
       "  second stance category                third fourth fifth  \\\n",
       "0                    NaN                  NaN    NaN   NaN   \n",
       "1              certainty                  NaN    NaN   NaN   \n",
       "2                    NaN                  NaN    NaN   NaN   \n",
       "3            contrariety            necessity    NaN   NaN   \n",
       "4             prediction  source of knowledge    NaN   NaN   \n",
       "\n",
       "   Utterance word length  \n",
       "0                      5  \n",
       "1                     14  \n",
       "2                      3  \n",
       "3                     21  \n",
       "4                     29  "
      ]
     },
     "execution_count": 3,
     "metadata": {},
     "output_type": "execute_result"
    }
   ],
   "source": [
    "df.head()"
   ]
  },
  {
   "cell_type": "markdown",
   "metadata": {},
   "source": [
    "# Dataset distribution with respect to 1st label\n",
    "Dataset only has 1682 data points, therefore it is very important that out test split and training split both have distributions that are similar to the original data set. Here we can see the distribution of labels when we only consider the first label of each data point."
   ]
  },
  {
   "cell_type": "code",
   "execution_count": 4,
   "metadata": {},
   "outputs": [
    {
     "data": {
      "text/plain": [
       "contrariety               0.209275\n",
       "source of knowledge       0.170630\n",
       "prediction                0.149822\n",
       "necessity                 0.121284\n",
       "uncertainty               0.116528\n",
       "hypotheticality           0.101665\n",
       "certainty                 0.049941\n",
       "agreement/disagreement    0.029727\n",
       "tact/rudeness             0.026159\n",
       "volition                  0.024970\n",
       "Name: Stance category, dtype: float64"
      ]
     },
     "execution_count": 4,
     "metadata": {},
     "output_type": "execute_result"
    }
   ],
   "source": [
    "df_percent = df['Stance category'].value_counts(True)\n",
    "\n",
    "df_percent"
   ]
  },
  {
   "cell_type": "markdown",
   "metadata": {},
   "source": [
    "# Testing set\n",
    "Above we saw that the 1st label distribution is highly skewed. In consideration of this, and given that with an 80/20 train/test split we will have fewer than 350 testing examples, it is important to make sure we have an equivalent distribution of 1st labels in our test set - if the less frequent labels are not present in the testing set in proportion to the training set we cannot sufficiently evaluate the model's performance predicting the less frequent classes.\n",
    "\n",
    "So to ensure distribution is preserved, rather than subsampling our test set from the whole dataset, first we group the data set by label, and then we randomly sample 20% from each group."
   ]
  },
  {
   "cell_type": "code",
   "execution_count": 5,
   "metadata": {},
   "outputs": [
    {
     "data": {
      "text/html": [
       "<div>\n",
       "<style scoped>\n",
       "    .dataframe tbody tr th:only-of-type {\n",
       "        vertical-align: middle;\n",
       "    }\n",
       "\n",
       "    .dataframe tbody tr th {\n",
       "        vertical-align: top;\n",
       "    }\n",
       "\n",
       "    .dataframe thead th {\n",
       "        text-align: right;\n",
       "    }\n",
       "</style>\n",
       "<table border=\"1\" class=\"dataframe\">\n",
       "  <thead>\n",
       "    <tr style=\"text-align: right;\">\n",
       "      <th></th>\n",
       "      <th>SND_studie</th>\n",
       "      <th>SND_dataset</th>\n",
       "      <th>SND_version</th>\n",
       "      <th>Utterance ID No</th>\n",
       "      <th>Utterance</th>\n",
       "      <th>Stance category</th>\n",
       "      <th>second stance category</th>\n",
       "      <th>third</th>\n",
       "      <th>fourth</th>\n",
       "      <th>fifth</th>\n",
       "      <th>Utterance word length</th>\n",
       "    </tr>\n",
       "  </thead>\n",
       "  <tbody>\n",
       "    <tr>\n",
       "      <th>13</th>\n",
       "      <td>1037</td>\n",
       "      <td>1</td>\n",
       "      <td>1.0</td>\n",
       "      <td>14</td>\n",
       "      <td>Granted, his party may commit regicide in the ...</td>\n",
       "      <td>agreement/disagreement</td>\n",
       "      <td>contrariety</td>\n",
       "      <td>hypotheticality</td>\n",
       "      <td>prediction</td>\n",
       "      <td>uncertainty</td>\n",
       "      <td>21</td>\n",
       "    </tr>\n",
       "    <tr>\n",
       "      <th>17</th>\n",
       "      <td>1037</td>\n",
       "      <td>1</td>\n",
       "      <td>1.0</td>\n",
       "      <td>18</td>\n",
       "      <td>And I very much doubt they are willing to cent...</td>\n",
       "      <td>agreement/disagreement</td>\n",
       "      <td>uncertainty</td>\n",
       "      <td>NaN</td>\n",
       "      <td>NaN</td>\n",
       "      <td>NaN</td>\n",
       "      <td>16</td>\n",
       "    </tr>\n",
       "    <tr>\n",
       "      <th>19</th>\n",
       "      <td>1037</td>\n",
       "      <td>1</td>\n",
       "      <td>1.0</td>\n",
       "      <td>20</td>\n",
       "      <td>In principle I agree with what he is striving ...</td>\n",
       "      <td>agreement/disagreement</td>\n",
       "      <td>contrariety</td>\n",
       "      <td>NaN</td>\n",
       "      <td>NaN</td>\n",
       "      <td>NaN</td>\n",
       "      <td>19</td>\n",
       "    </tr>\n",
       "    <tr>\n",
       "      <th>25</th>\n",
       "      <td>1037</td>\n",
       "      <td>1</td>\n",
       "      <td>1.0</td>\n",
       "      <td>26</td>\n",
       "      <td>It does not take into effect the benefits of S...</td>\n",
       "      <td>agreement/disagreement</td>\n",
       "      <td>NaN</td>\n",
       "      <td>NaN</td>\n",
       "      <td>NaN</td>\n",
       "      <td>NaN</td>\n",
       "      <td>22</td>\n",
       "    </tr>\n",
       "    <tr>\n",
       "      <th>26</th>\n",
       "      <td>1037</td>\n",
       "      <td>1</td>\n",
       "      <td>1.0</td>\n",
       "      <td>27</td>\n",
       "      <td>I would argue differently in that the tourname...</td>\n",
       "      <td>agreement/disagreement</td>\n",
       "      <td>NaN</td>\n",
       "      <td>NaN</td>\n",
       "      <td>NaN</td>\n",
       "      <td>NaN</td>\n",
       "      <td>18</td>\n",
       "    </tr>\n",
       "  </tbody>\n",
       "</table>\n",
       "</div>"
      ],
      "text/plain": [
       "    SND_studie  SND_dataset  SND_version  Utterance ID No  \\\n",
       "13        1037            1          1.0               14   \n",
       "17        1037            1          1.0               18   \n",
       "19        1037            1          1.0               20   \n",
       "25        1037            1          1.0               26   \n",
       "26        1037            1          1.0               27   \n",
       "\n",
       "                                            Utterance         Stance category  \\\n",
       "13  Granted, his party may commit regicide in the ...  agreement/disagreement   \n",
       "17  And I very much doubt they are willing to cent...  agreement/disagreement   \n",
       "19  In principle I agree with what he is striving ...  agreement/disagreement   \n",
       "25  It does not take into effect the benefits of S...  agreement/disagreement   \n",
       "26  I would argue differently in that the tourname...  agreement/disagreement   \n",
       "\n",
       "   second stance category            third      fourth        fifth  \\\n",
       "13            contrariety  hypotheticality  prediction  uncertainty   \n",
       "17            uncertainty              NaN         NaN          NaN   \n",
       "19            contrariety              NaN         NaN          NaN   \n",
       "25                    NaN              NaN         NaN          NaN   \n",
       "26                    NaN              NaN         NaN          NaN   \n",
       "\n",
       "    Utterance word length  \n",
       "13                     21  \n",
       "17                     16  \n",
       "19                     19  \n",
       "25                     22  \n",
       "26                     18  "
      ]
     },
     "execution_count": 5,
     "metadata": {},
     "output_type": "execute_result"
    }
   ],
   "source": [
    "test = df.groupby('Stance category',group_keys=False).apply(lambda g: g.sample(n=round(0.2* len(g)), random_state=42))\n",
    "test.sort_index(inplace = True)\n",
    "\n",
    "test.head()"
   ]
  },
  {
   "cell_type": "markdown",
   "metadata": {},
   "source": [
    "As desired, we can see that the label distribution is very similar to the original dataset:"
   ]
  },
  {
   "cell_type": "code",
   "execution_count": 6,
   "metadata": {},
   "outputs": [
    {
     "name": "stdout",
     "output_type": "stream",
     "text": [
      "contrariety               0.208955\n",
      "source of knowledge       0.170149\n",
      "prediction                0.149254\n",
      "necessity                 0.122388\n",
      "uncertainty               0.116418\n",
      "hypotheticality           0.101493\n",
      "certainty                 0.050746\n",
      "agreement/disagreement    0.029851\n",
      "tact/rudeness             0.026866\n",
      "volition                  0.023881\n",
      "Name: Stance category, dtype: float64\n"
     ]
    }
   ],
   "source": [
    "print(test['Stance category'].value_counts(True))\n"
   ]
  },
  {
   "cell_type": "markdown",
   "metadata": {},
   "source": [
    "# Training set \n",
    "Now we define our training set by selecting all data points not in the test set. Again we can see the 1st label distribution is approximately equivalent that of the whole dataset and the testing set. "
   ]
  },
  {
   "cell_type": "code",
   "execution_count": 7,
   "metadata": {},
   "outputs": [
    {
     "data": {
      "text/plain": [
       "contrariety               282\n",
       "source of knowledge       230\n",
       "prediction                202\n",
       "necessity                 163\n",
       "uncertainty               157\n",
       "hypotheticality           137\n",
       "certainty                  67\n",
       "agreement/disagreement     40\n",
       "tact/rudeness              35\n",
       "volition                   34\n",
       "Name: Stance category, dtype: int64"
      ]
     },
     "execution_count": 7,
     "metadata": {},
     "output_type": "execute_result"
    }
   ],
   "source": [
    "mask = df.index.isin(test.index)\n",
    "train = df[~mask]\n",
    "train['Stance category'].value_counts()"
   ]
  },
  {
   "cell_type": "markdown",
   "metadata": {},
   "source": [
    "Here is the above wrapped in a function, which we will put into a .py file in the python utilities directory:"
   ]
  },
  {
   "cell_type": "code",
   "execution_count": 8,
   "metadata": {},
   "outputs": [],
   "source": [
    "def get_train_test():\n",
    "    file = \"../data/brexit_blog_corpus.xlsx\"\n",
    "    df = pd.read_excel(file, usecols=\"A:K\")\n",
    "    test = df.groupby('Stance category', group_keys=False).apply(lambda g: g.sample(n=round(0.2 * len(g)), random_state=42))\n",
    "    test.sort_index(inplace=True)\n",
    "    mask = df.index.isin(test.index)\n",
    "    train = df[~mask]\n",
    "    train.sort_index(inplace=True)\n",
    "\n",
    "    return train, test"
   ]
  },
  {
   "cell_type": "markdown",
   "metadata": {},
   "source": [
    "Lets do some checks."
   ]
  },
  {
   "cell_type": "code",
   "execution_count": 9,
   "metadata": {},
   "outputs": [
    {
     "data": {
      "text/html": [
       "<div>\n",
       "<style scoped>\n",
       "    .dataframe tbody tr th:only-of-type {\n",
       "        vertical-align: middle;\n",
       "    }\n",
       "\n",
       "    .dataframe tbody tr th {\n",
       "        vertical-align: top;\n",
       "    }\n",
       "\n",
       "    .dataframe thead th {\n",
       "        text-align: right;\n",
       "    }\n",
       "</style>\n",
       "<table border=\"1\" class=\"dataframe\">\n",
       "  <thead>\n",
       "    <tr style=\"text-align: right;\">\n",
       "      <th></th>\n",
       "      <th>SND_studie</th>\n",
       "      <th>SND_dataset</th>\n",
       "      <th>SND_version</th>\n",
       "      <th>Utterance ID No</th>\n",
       "      <th>Utterance</th>\n",
       "      <th>Stance category</th>\n",
       "      <th>second stance category</th>\n",
       "      <th>third</th>\n",
       "      <th>fourth</th>\n",
       "      <th>fifth</th>\n",
       "      <th>Utterance word length</th>\n",
       "    </tr>\n",
       "  </thead>\n",
       "  <tbody>\n",
       "    <tr>\n",
       "      <th>0</th>\n",
       "      <td>1037</td>\n",
       "      <td>1</td>\n",
       "      <td>1.0</td>\n",
       "      <td>1</td>\n",
       "      <td>I know what you mean.</td>\n",
       "      <td>agreement/disagreement</td>\n",
       "      <td>NaN</td>\n",
       "      <td>NaN</td>\n",
       "      <td>NaN</td>\n",
       "      <td>NaN</td>\n",
       "      <td>5</td>\n",
       "    </tr>\n",
       "    <tr>\n",
       "      <th>1</th>\n",
       "      <td>1037</td>\n",
       "      <td>1</td>\n",
       "      <td>1.0</td>\n",
       "      <td>2</td>\n",
       "      <td>Yep, we definitely freeze out others opinions,...</td>\n",
       "      <td>agreement/disagreement</td>\n",
       "      <td>certainty</td>\n",
       "      <td>NaN</td>\n",
       "      <td>NaN</td>\n",
       "      <td>NaN</td>\n",
       "      <td>14</td>\n",
       "    </tr>\n",
       "    <tr>\n",
       "      <th>2</th>\n",
       "      <td>1037</td>\n",
       "      <td>1</td>\n",
       "      <td>1.0</td>\n",
       "      <td>3</td>\n",
       "      <td>So do I.</td>\n",
       "      <td>agreement/disagreement</td>\n",
       "      <td>NaN</td>\n",
       "      <td>NaN</td>\n",
       "      <td>NaN</td>\n",
       "      <td>NaN</td>\n",
       "      <td>3</td>\n",
       "    </tr>\n",
       "    <tr>\n",
       "      <th>3</th>\n",
       "      <td>1037</td>\n",
       "      <td>1</td>\n",
       "      <td>1.0</td>\n",
       "      <td>4</td>\n",
       "      <td>I don't disagree that the Yes campaign made mi...</td>\n",
       "      <td>agreement/disagreement</td>\n",
       "      <td>contrariety</td>\n",
       "      <td>necessity</td>\n",
       "      <td>NaN</td>\n",
       "      <td>NaN</td>\n",
       "      <td>21</td>\n",
       "    </tr>\n",
       "    <tr>\n",
       "      <th>4</th>\n",
       "      <td>1037</td>\n",
       "      <td>1</td>\n",
       "      <td>1.0</td>\n",
       "      <td>5</td>\n",
       "      <td>That to me is where the real conversions will ...</td>\n",
       "      <td>agreement/disagreement</td>\n",
       "      <td>prediction</td>\n",
       "      <td>source of knowledge</td>\n",
       "      <td>NaN</td>\n",
       "      <td>NaN</td>\n",
       "      <td>29</td>\n",
       "    </tr>\n",
       "  </tbody>\n",
       "</table>\n",
       "</div>"
      ],
      "text/plain": [
       "   SND_studie  SND_dataset  SND_version  Utterance ID No  \\\n",
       "0        1037            1          1.0                1   \n",
       "1        1037            1          1.0                2   \n",
       "2        1037            1          1.0                3   \n",
       "3        1037            1          1.0                4   \n",
       "4        1037            1          1.0                5   \n",
       "\n",
       "                                           Utterance         Stance category  \\\n",
       "0                              I know what you mean.  agreement/disagreement   \n",
       "1  Yep, we definitely freeze out others opinions,...  agreement/disagreement   \n",
       "2                                           So do I.  agreement/disagreement   \n",
       "3  I don't disagree that the Yes campaign made mi...  agreement/disagreement   \n",
       "4  That to me is where the real conversions will ...  agreement/disagreement   \n",
       "\n",
       "  second stance category                third fourth fifth  \\\n",
       "0                    NaN                  NaN    NaN   NaN   \n",
       "1              certainty                  NaN    NaN   NaN   \n",
       "2                    NaN                  NaN    NaN   NaN   \n",
       "3            contrariety            necessity    NaN   NaN   \n",
       "4             prediction  source of knowledge    NaN   NaN   \n",
       "\n",
       "   Utterance word length  \n",
       "0                      5  \n",
       "1                     14  \n",
       "2                      3  \n",
       "3                     21  \n",
       "4                     29  "
      ]
     },
     "execution_count": 9,
     "metadata": {},
     "output_type": "execute_result"
    }
   ],
   "source": [
    "train, test = get_train_test()\n",
    "train.head()\n"
   ]
  },
  {
   "cell_type": "code",
   "execution_count": 10,
   "metadata": {},
   "outputs": [
    {
     "data": {
      "text/html": [
       "<div>\n",
       "<style scoped>\n",
       "    .dataframe tbody tr th:only-of-type {\n",
       "        vertical-align: middle;\n",
       "    }\n",
       "\n",
       "    .dataframe tbody tr th {\n",
       "        vertical-align: top;\n",
       "    }\n",
       "\n",
       "    .dataframe thead th {\n",
       "        text-align: right;\n",
       "    }\n",
       "</style>\n",
       "<table border=\"1\" class=\"dataframe\">\n",
       "  <thead>\n",
       "    <tr style=\"text-align: right;\">\n",
       "      <th></th>\n",
       "      <th>SND_studie</th>\n",
       "      <th>SND_dataset</th>\n",
       "      <th>SND_version</th>\n",
       "      <th>Utterance ID No</th>\n",
       "      <th>Utterance</th>\n",
       "      <th>Stance category</th>\n",
       "      <th>second stance category</th>\n",
       "      <th>third</th>\n",
       "      <th>fourth</th>\n",
       "      <th>fifth</th>\n",
       "      <th>Utterance word length</th>\n",
       "    </tr>\n",
       "  </thead>\n",
       "  <tbody>\n",
       "    <tr>\n",
       "      <th>13</th>\n",
       "      <td>1037</td>\n",
       "      <td>1</td>\n",
       "      <td>1.0</td>\n",
       "      <td>14</td>\n",
       "      <td>Granted, his party may commit regicide in the ...</td>\n",
       "      <td>agreement/disagreement</td>\n",
       "      <td>contrariety</td>\n",
       "      <td>hypotheticality</td>\n",
       "      <td>prediction</td>\n",
       "      <td>uncertainty</td>\n",
       "      <td>21</td>\n",
       "    </tr>\n",
       "    <tr>\n",
       "      <th>17</th>\n",
       "      <td>1037</td>\n",
       "      <td>1</td>\n",
       "      <td>1.0</td>\n",
       "      <td>18</td>\n",
       "      <td>And I very much doubt they are willing to cent...</td>\n",
       "      <td>agreement/disagreement</td>\n",
       "      <td>uncertainty</td>\n",
       "      <td>NaN</td>\n",
       "      <td>NaN</td>\n",
       "      <td>NaN</td>\n",
       "      <td>16</td>\n",
       "    </tr>\n",
       "    <tr>\n",
       "      <th>19</th>\n",
       "      <td>1037</td>\n",
       "      <td>1</td>\n",
       "      <td>1.0</td>\n",
       "      <td>20</td>\n",
       "      <td>In principle I agree with what he is striving ...</td>\n",
       "      <td>agreement/disagreement</td>\n",
       "      <td>contrariety</td>\n",
       "      <td>NaN</td>\n",
       "      <td>NaN</td>\n",
       "      <td>NaN</td>\n",
       "      <td>19</td>\n",
       "    </tr>\n",
       "    <tr>\n",
       "      <th>25</th>\n",
       "      <td>1037</td>\n",
       "      <td>1</td>\n",
       "      <td>1.0</td>\n",
       "      <td>26</td>\n",
       "      <td>It does not take into effect the benefits of S...</td>\n",
       "      <td>agreement/disagreement</td>\n",
       "      <td>NaN</td>\n",
       "      <td>NaN</td>\n",
       "      <td>NaN</td>\n",
       "      <td>NaN</td>\n",
       "      <td>22</td>\n",
       "    </tr>\n",
       "    <tr>\n",
       "      <th>26</th>\n",
       "      <td>1037</td>\n",
       "      <td>1</td>\n",
       "      <td>1.0</td>\n",
       "      <td>27</td>\n",
       "      <td>I would argue differently in that the tourname...</td>\n",
       "      <td>agreement/disagreement</td>\n",
       "      <td>NaN</td>\n",
       "      <td>NaN</td>\n",
       "      <td>NaN</td>\n",
       "      <td>NaN</td>\n",
       "      <td>18</td>\n",
       "    </tr>\n",
       "  </tbody>\n",
       "</table>\n",
       "</div>"
      ],
      "text/plain": [
       "    SND_studie  SND_dataset  SND_version  Utterance ID No  \\\n",
       "13        1037            1          1.0               14   \n",
       "17        1037            1          1.0               18   \n",
       "19        1037            1          1.0               20   \n",
       "25        1037            1          1.0               26   \n",
       "26        1037            1          1.0               27   \n",
       "\n",
       "                                            Utterance         Stance category  \\\n",
       "13  Granted, his party may commit regicide in the ...  agreement/disagreement   \n",
       "17  And I very much doubt they are willing to cent...  agreement/disagreement   \n",
       "19  In principle I agree with what he is striving ...  agreement/disagreement   \n",
       "25  It does not take into effect the benefits of S...  agreement/disagreement   \n",
       "26  I would argue differently in that the tourname...  agreement/disagreement   \n",
       "\n",
       "   second stance category            third      fourth        fifth  \\\n",
       "13            contrariety  hypotheticality  prediction  uncertainty   \n",
       "17            uncertainty              NaN         NaN          NaN   \n",
       "19            contrariety              NaN         NaN          NaN   \n",
       "25                    NaN              NaN         NaN          NaN   \n",
       "26                    NaN              NaN         NaN          NaN   \n",
       "\n",
       "    Utterance word length  \n",
       "13                     21  \n",
       "17                     16  \n",
       "19                     19  \n",
       "25                     22  \n",
       "26                     18  "
      ]
     },
     "execution_count": 10,
     "metadata": {},
     "output_type": "execute_result"
    }
   ],
   "source": [
    "test.head()"
   ]
  },
  {
   "cell_type": "code",
   "execution_count": 11,
   "metadata": {},
   "outputs": [
    {
     "name": "stdout",
     "output_type": "stream",
     "text": [
      "1346\n",
      "1347\n"
     ]
    }
   ],
   "source": [
    "print(round(0.8*len(df)))\n",
    "print(len(train))"
   ]
  },
  {
   "cell_type": "code",
   "execution_count": 12,
   "metadata": {},
   "outputs": [
    {
     "name": "stdout",
     "output_type": "stream",
     "text": [
      "336\n",
      "335\n"
     ]
    }
   ],
   "source": [
    "print(round(0.2*len(df)))\n",
    "print(len(test))"
   ]
  },
  {
   "cell_type": "markdown",
   "metadata": {},
   "source": [
    "split sizes are correct to within +-1. This is acceptable."
   ]
  },
  {
   "cell_type": "code",
   "execution_count": 13,
   "metadata": {},
   "outputs": [
    {
     "name": "stdout",
     "output_type": "stream",
     "text": [
      "0\n"
     ]
    }
   ],
   "source": [
    "print(test.index.isin(train.index).sum())"
   ]
  },
  {
   "cell_type": "code",
   "execution_count": 16,
   "metadata": {},
   "outputs": [
    {
     "name": "stdout",
     "output_type": "stream",
     "text": [
      "1682\n",
      "1682\n"
     ]
    }
   ],
   "source": [
    "print(len(df))\n",
    "print(len(test) + len(train))"
   ]
  },
  {
   "cell_type": "markdown",
   "metadata": {},
   "source": [
    "All good!"
   ]
  }
 ],
 "metadata": {
  "kernelspec": {
   "display_name": "Python 3",
   "language": "python",
   "name": "python3"
  },
  "language_info": {
   "codemirror_mode": {
    "name": "ipython",
    "version": 3
   },
   "file_extension": ".py",
   "mimetype": "text/x-python",
   "name": "python",
   "nbconvert_exporter": "python",
   "pygments_lexer": "ipython3",
   "version": "3.6.3"
  }
 },
 "nbformat": 4,
 "nbformat_minor": 2
}
