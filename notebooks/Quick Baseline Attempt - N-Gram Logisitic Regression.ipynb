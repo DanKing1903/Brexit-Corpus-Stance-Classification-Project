{
 "cells": [
  {
   "cell_type": "code",
   "execution_count": 101,
   "metadata": {},
   "outputs": [],
   "source": [
    "import sklearn\n",
    "import numpy as np\n",
    "import pandas as pd\n",
    "\n",
    "from sklearn.multiclass import OneVsRestClassifier\n",
    "from sklearn.linear_model import LogisticRegression\n",
    "from sklearn.preprocessing import LabelBinarizer, LabelEncoder\n",
    "from sklearn.feature_extraction.text import CountVectorizer\n",
    "from sklearn.feature_extraction import DictVectorizer\n",
    "from sklearn.pipeline import Pipeline\n",
    "from sklearn.base import BaseEstimator, TransformerMixin\n",
    "from sklearn.metrics import f1_score\n",
    "\n"
   ]
  },
  {
   "cell_type": "code",
   "execution_count": 102,
   "metadata": {},
   "outputs": [],
   "source": [
    "class Selector(BaseEstimator, TransformerMixin):\n",
    "    def __init__(self, key):\n",
    "        self.key = key\n",
    "\n",
    "    def fit(self, X, *_):\n",
    "        return self\n",
    "\n",
    "    def transform(self, df):\n",
    "        return df[self.key]\n"
   ]
  },
  {
   "cell_type": "code",
   "execution_count": 182,
   "metadata": {},
   "outputs": [],
   "source": [
    "class Model(object):\n",
    "    \n",
    "    def __init__(self):\n",
    "        self.trainset = pd.read_csv(\"../data/train_set.csv\")\n",
    "        self.testset = pd.read_csv(\"../data/test_set.csv\")\n",
    "        self.cv = CountVectorizer(ngram_range=(0,2))\n",
    "        self.lb = LabelEncoder()\n",
    "        #self.y_pipe = Pipeline\n",
    "        #self.X_pipe = Pipeline([('select', Selector(key='Utterance'))] + [('cv', CountVectorizer())])\n",
    "        self.model = LogisticRegression(multi_class='multinomial', solver='newton-cg' )\n",
    "        \n",
    "        \n",
    "    def train(self):\n",
    "        X = self.cv.fit_transform(self.trainset['Utterance'])\n",
    "        y = self.lb.fit_transform(self.trainset['Stance category'])\n",
    "        #print(y)\n",
    "        self.model.fit(X,y)\n",
    "        \n",
    "    def test(self):\n",
    "        X = self.cv.transform(self.testset['Utterance'])\n",
    "        y = self.model.predict(X)\n",
    "        self.y_pred = self.lb.inverse_transform(y)\n",
    "        score = f1_score(self.testset['Stance category'], self.y_pred, average = 'micro')\n",
    "        print(\"f1-Micro score: {:.3}\\n\".format(score))\n",
    "        return self.y_pred\n",
    "    \n",
    "    def compare_distributions(self):\n",
    "        y_pred = pd.Series(self.y_pred)\n",
    "        y = self.testset['Stance category']\n",
    "        diff = (y_pred.value_counts()-y.value_counts())/y.value_counts()\n",
    "        print(diff)\n",
    "        "
   ]
  },
  {
   "cell_type": "code",
   "execution_count": 183,
   "metadata": {},
   "outputs": [
    {
     "name": "stdout",
     "output_type": "stream",
     "text": [
      "f1-Micro score: 0.296\n",
      "\n",
      "agreement/disagreement   -0.900000\n",
      "certainty                -0.411765\n",
      "contrariety               0.242857\n",
      "hypotheticality           0.147059\n",
      "necessity                 0.195122\n",
      "prediction                0.060000\n",
      "source of knowledge       0.192982\n",
      "tact/rudeness            -0.666667\n",
      "uncertainty              -0.435897\n",
      "volition                 -0.625000\n",
      "dtype: float64\n"
     ]
    },
    {
     "name": "stderr",
     "output_type": "stream",
     "text": [
      "/home/dan/.local/lib/python3.6/site-packages/sklearn/preprocessing/label.py:151: DeprecationWarning: The truth value of an empty array is ambiguous. Returning False, but in future this will result in an error. Use `array.size > 0` to check that an array is not empty.\n",
      "  if diff:\n"
     ]
    }
   ],
   "source": [
    "model = Model()\n",
    "model.train()\n",
    "model.test()\n",
    "model.compare_distributions()"
   ]
  },
  {
   "cell_type": "code",
   "execution_count": null,
   "metadata": {},
   "outputs": [],
   "source": []
  }
 ],
 "metadata": {
  "kernelspec": {
   "display_name": "Python 3",
   "language": "python",
   "name": "python3"
  },
  "language_info": {
   "codemirror_mode": {
    "name": "ipython",
    "version": 3
   },
   "file_extension": ".py",
   "mimetype": "text/x-python",
   "name": "python",
   "nbconvert_exporter": "python",
   "pygments_lexer": "ipython3",
   "version": "3.6.3"
  }
 },
 "nbformat": 4,
 "nbformat_minor": 2
}
